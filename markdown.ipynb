{
  "nbformat": 4,
  "nbformat_minor": 0,
  "metadata": {
    "colab": {
      "name": "markdown.ipynb",
      "provenance": [],
      "collapsed_sections": [],
      "authorship_tag": "ABX9TyP7pEW27JNhbRwmZmJrT0Jm",
      "include_colab_link": true
    },
    "kernelspec": {
      "name": "python3",
      "display_name": "Python 3"
    },
    "language_info": {
      "name": "python"
    }
  },
  "cells": [
    {
      "cell_type": "markdown",
      "metadata": {
        "id": "view-in-github",
        "colab_type": "text"
      },
      "source": [
        "<a href=\"https://colab.research.google.com/github/vrGoldenLab/goldenlab24/blob/master/markdown.ipynb\" target=\"_parent\"><img src=\"https://colab.research.google.com/assets/colab-badge.svg\" alt=\"Open In Colab\"/></a>"
      ]
    },
    {
      "cell_type": "markdown",
      "metadata": {
        "id": "vwhGAd1PVAHp"
      },
      "source": [
        "# 마크다운(Markdown) 사용하기\n",
        "* 특수기호와 문자를 이용한 매우 간단한 구조의 문법을 사용\n",
        "* 웹에서 보다 빠르게 컨텐츠를 작성\n"
      ]
    },
    {
      "cell_type": "markdown",
      "metadata": {
        "id": "fmJxN1TVJoKD"
      },
      "source": [
        "일반 텍스트로 서식이 있는 문서를 작성하는 데 사용되며, 일반 마크업 언어에 비해 문법이 쉽고 간단한 것이 특징이다.   \n",
        " HTML과 리치 텍스트(RTF) 등 서식 문서로 쉽게 변환되기 때문에 응용 소프트웨어와 함께 배포되는 README 파일이나 온라인 게시물 등에 많이 사용된다."
      ]
    },
    {
      "cell_type": "markdown",
      "metadata": {
        "id": "eo4fgmIgMwj6"
      },
      "source": [
        "[마크다운 위키백과](https://ko.wikipedia.org/wiki/%EB%A7%88%ED%81%AC%EB%8B%A4%EC%9A%B4)"
      ]
    },
    {
      "cell_type": "markdown",
      "metadata": {
        "id": "n_KVhY1hrHCq"
      },
      "source": [
        "##제목 표시\n",
        "\n",
        "* 큰제목 \n",
        "         This is a Title\n",
        "         ================\n",
        "   This is a Title\n",
        "   ================\n",
        "* 작은 제목\n",
        "        This is a Title\n",
        "        -----------------\n",
        "   This is a Title\n",
        "   -----------------\n",
        "      \n",
        "         \n",
        "         \n",
        "* 말머리 표기\n",
        "      # This is a H1\n",
        "      ## This is a H2\n",
        "      ### This is a H3\n",
        "      #### This is a H4\n",
        "      ##### This is a H5\n",
        "      ###### This is a H6\n",
        "# This is a H1\n",
        "## This is a H2\n",
        "### This is a H3\n",
        "#### This is a H4\n",
        "##### This is a H5\n",
        "###### This is a H6"
      ]
    },
    {
      "cell_type": "markdown",
      "metadata": {
        "id": "fZW0bXI-rsAU"
      },
      "source": [
        "##블록\n",
        "    > This is a first blockqute.\n",
        "    >\t> This is a second blockqute.\n",
        "    >\t>\t> This is a third blockqute.\n",
        "> This is a first blockqute.\n",
        ">\t> This is a second blockqute.\n",
        ">\t>\t> This is a third blockqute."
      ]
    },
    {
      "cell_type": "markdown",
      "metadata": {
        "id": "s_gkJ5wctJjQ"
      },
      "source": [
        "##순서 있는 목록\n",
        "숫자와 점을 사용   \n",
        "\n",
        "    1. 첫번째\n",
        "    2. 두번째\n",
        "    3. 세번째\n",
        "1. 첫번째\n",
        "2. 두번째\n",
        "3. 세번째"
      ]
    },
    {
      "cell_type": "markdown",
      "metadata": {
        "id": "u4JkIBPqsu0C"
      },
      "source": [
        "##순서없는 목록\n",
        " 글머리 기호: *, +, - 지원\n",
        "   \n",
        "    * 빨강\n",
        "     * 녹색\n",
        "       * 파랑\n",
        "\n",
        "    + 빨강\n",
        "     + 녹색\n",
        "       + 파랑\n",
        "\n",
        "    - 빨강\n",
        "       - 녹색\n",
        "        - 파랑\n",
        "\n",
        "* 빨강\n",
        "  * 녹색\n",
        "    * 파랑\n",
        "\n",
        "+ 빨강\n",
        "  + 녹색\n",
        "    + 파랑\n",
        "\n",
        "- 빨강\n",
        "  - 녹색\n",
        "    - 파랑"
      ]
    },
    {
      "cell_type": "markdown",
      "metadata": {
        "id": "3P1hSAb9DKYo"
      },
      "source": [
        "##구분선\n",
        "    * * *\n",
        "\n",
        "    ***\n",
        "\n",
        "    *****\n",
        "\n",
        "    - - -\n",
        "\n",
        "    --------------------------------------\n",
        "* * *\n",
        "\n",
        "***\n",
        "\n",
        "*****\n",
        "\n",
        "- - -\n",
        "\n",
        "---------------------------------------"
      ]
    },
    {
      "cell_type": "markdown",
      "metadata": {
        "id": "SwagKuxPDd3a"
      },
      "source": [
        "##링크\n",
        "    [링크 텍스트](https://)   \n",
        "    [Google](https://google.com, \"google link\")  \n",
        "[링크 텍스트](https://)   \n",
        "[Google](https://google.com, \"google link\")  "
      ]
    },
    {
      "cell_type": "markdown",
      "metadata": {
        "id": "SJWrWP9BEr0U"
      },
      "source": [
        "##줄바꿈\n",
        "* 3칸 이상 띄어쓰기( )를 하면 줄이 바뀐다.   \n"
      ]
    },
    {
      "cell_type": "markdown",
      "metadata": {
        "id": "5T5WAeWhFcaN"
      },
      "source": [
        "# 코딩 연습\n",
        "* input()과 print()를 이용하여 인사말을 만들어 봅니다."
      ]
    },
    {
      "cell_type": "code",
      "metadata": {
        "id": "4GadEhNcDbxi"
      },
      "source": [
        "'''\n",
        "입력과 출력을 연습해 봅니다\n",
        "'''\n",
        "print('이름을 입력하세요: ') # 이름 입력요청 메세지를 화면에 출력합니다\n",
        "name = input()               #화면에서 키보는 입력값을 받아 name변수에 넣습니다\n",
        "print(name,'은 오늘부터 파이썬을 공부하게 되었습니다')  #이름변수와 텍스트 내용을 화면에 출력합니다\n"
      ],
      "execution_count": null,
      "outputs": []
    },
    {
      "cell_type": "code",
      "metadata": {
        "id": "zjavE03xGxxR"
      },
      "source": [
        "## 주석을 풀고 name1~name4 조원수만큼 입력값을 받아 변수로 저장하고 출력해 보세요\n",
        "print('조원을 입력하세요 ')\n",
        "#name1 = input()\n",
        "#name2 = input()\n",
        "#name3 = input()\n",
        "#name4 = input()\n",
        "print(   '와 파이썬을 공부하게 되었습니다')"
      ],
      "execution_count": null,
      "outputs": []
    }
  ]
}