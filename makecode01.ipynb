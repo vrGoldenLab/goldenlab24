{
  "nbformat": 4,
  "nbformat_minor": 0,
  "metadata": {
    "colab": {
      "name": "makecode01.ipynb",
      "provenance": [],
      "collapsed_sections": [],
      "toc_visible": true,
      "authorship_tag": "ABX9TyOWTkf/LsinGnsVTYNIoiTZ",
      "include_colab_link": true
    },
    "kernelspec": {
      "name": "python3",
      "display_name": "Python 3"
    },
    "language_info": {
      "name": "python"
    }
  },
  "cells": [
    {
      "cell_type": "markdown",
      "metadata": {
        "id": "view-in-github",
        "colab_type": "text"
      },
      "source": [
        "<a href=\"https://colab.research.google.com/github/vrGoldenLab/goldenlab24/blob/master/makecode01.ipynb\" target=\"_parent\"><img src=\"https://colab.research.google.com/assets/colab-badge.svg\" alt=\"Open In Colab\"/></a>"
      ]
    },
    {
      "cell_type": "markdown",
      "metadata": {
        "id": "5T5WAeWhFcaN"
      },
      "source": [
        "# 코딩 연습\n",
        "* input()과 print()를 이용하여 인사말을 만들어 봅니다."
      ]
    },
    {
      "cell_type": "code",
      "metadata": {
        "id": "4GadEhNcDbxi",
        "colab": {
          "base_uri": "https://localhost:8080/"
        },
        "outputId": "c9bfbf5d-e7b2-4d50-ccf1-b0e9df29d80a"
      },
      "source": [
        "'''\n",
        "입력과 출력을 연습해 봅니다\n",
        "'''\n",
        "print('이름을 입력하세요: ') # 이름 입력요청 메세지를 화면에 출력합니다\n",
        "name = input()               #화면에서 키보는 입력값을 받아 name변수에 넣습니다\n",
        "print(name,'은 오늘부터 파이썬을 공부하게 되었습니다')  #이름변수와 텍스트 내용을 화면에 출력합니다\n"
      ],
      "execution_count": 1,
      "outputs": [
        {
          "output_type": "stream",
          "text": [
            "이름을 입력하세요: \n",
            "khj\n",
            "khj 은 오늘부터 파이썬을 공부하게 되었습니다\n"
          ],
          "name": "stdout"
        }
      ]
    },
    {
      "cell_type": "code",
      "metadata": {
        "id": "zjavE03xGxxR",
        "colab": {
          "base_uri": "https://localhost:8080/"
        },
        "outputId": "1e4f434c-cf5b-42d3-daed-315d28219004"
      },
      "source": [
        "## 주석을 풀고 name1~name4 조원수만큼 입력값을 받아 변수로 저장하고 출력해 보세요\n",
        "print('조원을 입력하세요 ')\n",
        "#name1 = input()\n",
        "#name2 = input()\n",
        "#name3 = input()\n",
        "#name4 = input()\n",
        "print(   '와 파이썬을 공부하게 되었습니다')"
      ],
      "execution_count": 2,
      "outputs": [
        {
          "output_type": "stream",
          "text": [
            "조원을 입력하세요 \n",
            "와 파이썬을 공부하게 되었습니다\n"
          ],
          "name": "stdout"
        }
      ]
    }
  ]
}