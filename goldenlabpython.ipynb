{
  "nbformat": 4,
  "nbformat_minor": 0,
  "metadata": {
    "colab": {
      "name": "goldenlabpython.ipynb",
      "private_outputs": true,
      "provenance": [],
      "collapsed_sections": [],
      "authorship_tag": "ABX9TyO9uwPfuiOBskctbydVTfYV",
      "include_colab_link": true
    },
    "kernelspec": {
      "name": "python3",
      "display_name": "Python 3"
    },
    "language_info": {
      "name": "python"
    }
  },
  "cells": [
    {
      "cell_type": "markdown",
      "metadata": {
        "id": "view-in-github",
        "colab_type": "text"
      },
      "source": [
        "<a href=\"https://colab.research.google.com/github/vrGoldenLab/goldenlab24/blob/master/goldenlabpython.ipynb\" target=\"_parent\"><img src=\"https://colab.research.google.com/assets/colab-badge.svg\" alt=\"Open In Colab\"/></a>"
      ]
    },
    {
      "cell_type": "markdown",
      "metadata": {
        "id": "sJ44Lp5TfZwK"
      },
      "source": [
        "# **GoldenLab Python**\n",
        "\n",
        "\n",
        "1. **Colab을 사용하여 5분안에 코드 개발 환경을 만듭니다.**   \n",
        "\n",
        "    1-1. colab 이란? \n",
        "\n",
        "     * 구글 클라우드 기반의 무료 개발 환경 서비스\n",
        "     * 환경 설정 및 실행까지 매우 빠른 환결\n",
        "     * 딥러닝 실행이 가능한 고사양 환경 제공\n",
        "     * Jupyter Notebook 환경 제공\n",
        "     * 대부분의 패키지들이 이미 설치된 환경\n",
        "     * 여러 사용자와 동시에 사용 가능\n",
        "     * PC,태블릿,모바일 상관없이 인터넷 브라우저만 있으면 사용 가능\n",
        "     * 목차나 Markdown 미리보기 등 다양한 기능 제공\n",
        "     * 구글 드라이브와 연동\n",
        "     * Git,Github와 쉽게 연동\n",
        "#   \n",
        "2. 수업후 수업내용을 포스팅하여 코딩 개발노트로 활용하도록 합니다.\n",
        "\n",
        "    * 코랩 코드를 github에 사본으로 관리합니다.\n",
        "    * gitbook,git gist 에 posting으로 포스팅합니다.   \n",
        "\n",
        "#    \n",
     
        "3. 수업 과제 완성 후 slack을 사용하여 질문과 답변을 진행합니다.\n",
        "    * slack 골든랩에 초대메일을 통해 참여 가능합니다.\n",
        
        "#  \n",
        "   \n",
        "깃허브의 주소는 [https://github.com/goldenlab/goldenlab24](https://github.com/goldenlab/goldenlab24) 입니다.\n",
        "\n",
        "깃북의 주소는 [https://goldenlab.gitbooks.io/goldenlab24](https://goldenlab.gitbooks.io/goldenlab24) 입니다.\n",
        "\n",
        "구글드라이브 공유 주소 [http://gg.gg/sbapython](http://gg.gg/sbapython)입니다.  \n",
        "\n",

        "감사합니다."
      ]
    },
    {
      "cell_type": "markdown",
      "metadata": {
        "id": "ro5Lb8hYlgji"
      },
      "source": [
        ""
      ]
    }
  ]
}
